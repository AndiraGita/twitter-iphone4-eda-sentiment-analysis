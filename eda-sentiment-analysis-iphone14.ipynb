{
 "cells": [
  {
   "cell_type": "markdown",
   "id": "fc8de124",
   "metadata": {},
   "source": [
    "# About this notebook"
   ]
  },
  {
   "cell_type": "markdown",
   "id": "c8864ab2",
   "metadata": {},
   "source": [
    "In this notebook, I will explore the iPhone 14 tweet data that available on Kaggle with the help of matplotlib and seaborn to visualize the results for a better view. I will also do a simple sentiment analysis using NLTK and [vaderSentiment](https://github.com/cjhutto/vaderSentiment). I used vaderSentiment because it's specifically attuned to sentiments expressed in social media."
   ]
  },
  {
   "cell_type": "markdown",
   "id": "020bc160",
   "metadata": {},
   "source": [
    "# About dataset"
   ]
  },
  {
   "cell_type": "markdown",
   "id": "e6545fd1",
   "metadata": {},
   "source": [
    "The dataset could be viewed on Kaggle titled [iPhone 14 Tweets [July/Sept 2022 +144k English]](https://www.kaggle.com/datasets/tleonel/iphone14-tweets).\n",
    "\n",
    "On 7 September 2022, Apple release a teaser of its newest phone series, iPhone 14 series, and its gain a ton of reaction from the internet. To analyze the sentiment of public, I will use this data and observe its sentiment using NLP. \n",
    "\n",
    "The column's and other further description could be viewed in the kaggle page. "
   ]
  },
  {
   "cell_type": "markdown",
   "id": "537b907f",
   "metadata": {},
   "source": [
    "### Import libraries"
   ]
  },
  {
   "cell_type": "code",
   "execution_count": 62,
   "id": "a9f400c9",
   "metadata": {},
   "outputs": [],
   "source": [
    "import re\n",
    "import numpy as np\n",
    "import pandas as pd\n",
    "import seaborn as sns\n",
    "import matplotlib.pyplot as plt\n",
    "from datetime import datetime\n",
    "from vaderSentiment.vaderSentiment import SentimentIntensityAnalyzer\n",
    "from nltk import word_tokenize\n",
    "from nltk.corpus import stopwords"
   ]
  },
  {
   "cell_type": "markdown",
   "id": "035285f1",
   "metadata": {},
   "source": [
    "### Load and view dataset"
   ]
  },
  {
   "cell_type": "code",
   "execution_count": 2,
   "id": "6b0f9a6a",
   "metadata": {},
   "outputs": [],
   "source": [
    "df = pd.read_csv('data/iphone14-query-tweets.csv')"
   ]
  },
  {
   "cell_type": "code",
   "execution_count": 3,
   "id": "2d29a07b",
   "metadata": {},
   "outputs": [
    {
     "data": {
      "text/html": [
       "<div>\n",
       "<style scoped>\n",
       "    .dataframe tbody tr th:only-of-type {\n",
       "        vertical-align: middle;\n",
       "    }\n",
       "\n",
       "    .dataframe tbody tr th {\n",
       "        vertical-align: top;\n",
       "    }\n",
       "\n",
       "    .dataframe thead th {\n",
       "        text-align: right;\n",
       "    }\n",
       "</style>\n",
       "<table border=\"1\" class=\"dataframe\">\n",
       "  <thead>\n",
       "    <tr style=\"text-align: right;\">\n",
       "      <th></th>\n",
       "      <th>date_time</th>\n",
       "      <th>username</th>\n",
       "      <th>user_location</th>\n",
       "      <th>user_description</th>\n",
       "      <th>verified</th>\n",
       "      <th>followers_count</th>\n",
       "      <th>following_count</th>\n",
       "      <th>tweet_like_count</th>\n",
       "      <th>tweet_retweet_count</th>\n",
       "      <th>tweet_reply_count</th>\n",
       "      <th>source</th>\n",
       "      <th>tweet_text</th>\n",
       "    </tr>\n",
       "  </thead>\n",
       "  <tbody>\n",
       "    <tr>\n",
       "      <th>0</th>\n",
       "      <td>2022-09-03 15:14:43+00:00</td>\n",
       "      <td>ManoranjanNews1</td>\n",
       "      <td>delhi</td>\n",
       "      <td>We provide all entertainment news in your lang...</td>\n",
       "      <td>False</td>\n",
       "      <td>10</td>\n",
       "      <td>70</td>\n",
       "      <td>0</td>\n",
       "      <td>0</td>\n",
       "      <td>0</td>\n",
       "      <td>&lt;a href=\"http://publicize.wp.com/\" rel=\"nofoll...</td>\n",
       "      <td>iPhone 14 Professional Alleged Reside Video Su...</td>\n",
       "    </tr>\n",
       "    <tr>\n",
       "      <th>1</th>\n",
       "      <td>2022-09-03 15:14:34+00:00</td>\n",
       "      <td>blithe_peg</td>\n",
       "      <td>NaN</td>\n",
       "      <td>üì¢ÁîµÊä•Áæ§‚úàt.me/+eem5LAA9SeBmM‚Ä¶   üéâ...</td>\n",
       "      <td>False</td>\n",
       "      <td>0</td>\n",
       "      <td>0</td>\n",
       "      <td>0</td>\n",
       "      <td>0</td>\n",
       "      <td>0</td>\n",
       "      <td>&lt;a href=\"https://dlvrit.com/\" rel=\"nofollow\"&gt;d...</td>\n",
       "      <td>üëà‰∏ªÈ°µ‰∏ªÈ°µ This trick lets you visualize...</td>\n",
       "    </tr>\n",
       "    <tr>\n",
       "      <th>2</th>\n",
       "      <td>2022-09-03 15:14:08+00:00</td>\n",
       "      <td>brainy_maxx</td>\n",
       "      <td>Naija</td>\n",
       "      <td>I‚Äôm mindin' my business, God is my witness ...</td>\n",
       "      <td>False</td>\n",
       "      <td>2305</td>\n",
       "      <td>2096</td>\n",
       "      <td>0</td>\n",
       "      <td>0</td>\n",
       "      <td>1</td>\n",
       "      <td>&lt;a href=\"http://twitter.com/download/iphone\" r...</td>\n",
       "      <td>@thebams_dele Iphone 14 pro max uk used</td>\n",
       "    </tr>\n",
       "    <tr>\n",
       "      <th>3</th>\n",
       "      <td>2022-09-03 15:13:08+00:00</td>\n",
       "      <td>MacHashNews</td>\n",
       "      <td>Designed in California</td>\n",
       "      <td>Up to the minute Apple news. The best Mac and ...</td>\n",
       "      <td>False</td>\n",
       "      <td>1915</td>\n",
       "      <td>3670</td>\n",
       "      <td>0</td>\n",
       "      <td>0</td>\n",
       "      <td>0</td>\n",
       "      <td>&lt;a href=\"https://dlvrit.com/\" rel=\"nofollow\"&gt;d...</td>\n",
       "      <td>Video Claiming iPhone 14 Pro Users Will Be Abl...</td>\n",
       "    </tr>\n",
       "    <tr>\n",
       "      <th>4</th>\n",
       "      <td>2022-09-03 15:12:33+00:00</td>\n",
       "      <td>Not_Javian</td>\n",
       "      <td>NaN</td>\n",
       "      <td>Somewhere working for success. #GoalDriven</td>\n",
       "      <td>False</td>\n",
       "      <td>571</td>\n",
       "      <td>625</td>\n",
       "      <td>0</td>\n",
       "      <td>0</td>\n",
       "      <td>0</td>\n",
       "      <td>&lt;a href=\"https://mobile.twitter.com\" rel=\"nofo...</td>\n",
       "      <td>New iPhone 14 Pro is gonna look so sick can't ...</td>\n",
       "    </tr>\n",
       "  </tbody>\n",
       "</table>\n",
       "</div>"
      ],
      "text/plain": [
       "                   date_time         username           user_location  \\\n",
       "0  2022-09-03 15:14:43+00:00  ManoranjanNews1                   delhi   \n",
       "1  2022-09-03 15:14:34+00:00       blithe_peg                     NaN   \n",
       "2  2022-09-03 15:14:08+00:00      brainy_maxx                   Naija   \n",
       "3  2022-09-03 15:13:08+00:00      MacHashNews  Designed in California   \n",
       "4  2022-09-03 15:12:33+00:00       Not_Javian                     NaN   \n",
       "\n",
       "                                    user_description  verified  \\\n",
       "0  We provide all entertainment news in your lang...     False   \n",
       "1  üì¢ÁîµÊä•Áæ§‚úàt.me/+eem5LAA9SeBmM‚Ä¶   üéâ...     False   \n",
       "2  I‚Äôm mindin' my business, God is my witness ...     False   \n",
       "3  Up to the minute Apple news. The best Mac and ...     False   \n",
       "4         Somewhere working for success. #GoalDriven     False   \n",
       "\n",
       "   followers_count  following_count  tweet_like_count  tweet_retweet_count  \\\n",
       "0               10               70                 0                    0   \n",
       "1                0                0                 0                    0   \n",
       "2             2305             2096                 0                    0   \n",
       "3             1915             3670                 0                    0   \n",
       "4              571              625                 0                    0   \n",
       "\n",
       "   tweet_reply_count                                             source  \\\n",
       "0                  0  <a href=\"http://publicize.wp.com/\" rel=\"nofoll...   \n",
       "1                  0  <a href=\"https://dlvrit.com/\" rel=\"nofollow\">d...   \n",
       "2                  1  <a href=\"http://twitter.com/download/iphone\" r...   \n",
       "3                  0  <a href=\"https://dlvrit.com/\" rel=\"nofollow\">d...   \n",
       "4                  0  <a href=\"https://mobile.twitter.com\" rel=\"nofo...   \n",
       "\n",
       "                                          tweet_text  \n",
       "0  iPhone 14 Professional Alleged Reside Video Su...  \n",
       "1  üëà‰∏ªÈ°µ‰∏ªÈ°µ This trick lets you visualize...  \n",
       "2            @thebams_dele Iphone 14 pro max uk used  \n",
       "3  Video Claiming iPhone 14 Pro Users Will Be Abl...  \n",
       "4  New iPhone 14 Pro is gonna look so sick can't ...  "
      ]
     },
     "execution_count": 3,
     "metadata": {},
     "output_type": "execute_result"
    }
   ],
   "source": [
    "df.head(5)"
   ]
  },
  {
   "cell_type": "code",
   "execution_count": 4,
   "id": "7c056b4c",
   "metadata": {},
   "outputs": [
    {
     "data": {
      "text/plain": [
       "(66794, 12)"
      ]
     },
     "execution_count": 4,
     "metadata": {},
     "output_type": "execute_result"
    }
   ],
   "source": [
    "df.shape"
   ]
  },
  {
   "cell_type": "markdown",
   "id": "12e04ba6",
   "metadata": {},
   "source": [
    "So we have 66.749 rows of data with 12 columns."
   ]
  },
  {
   "cell_type": "code",
   "execution_count": 5,
   "id": "4e2027bd",
   "metadata": {},
   "outputs": [
    {
     "data": {
      "text/html": [
       "<div>\n",
       "<style scoped>\n",
       "    .dataframe tbody tr th:only-of-type {\n",
       "        vertical-align: middle;\n",
       "    }\n",
       "\n",
       "    .dataframe tbody tr th {\n",
       "        vertical-align: top;\n",
       "    }\n",
       "\n",
       "    .dataframe thead th {\n",
       "        text-align: right;\n",
       "    }\n",
       "</style>\n",
       "<table border=\"1\" class=\"dataframe\">\n",
       "  <thead>\n",
       "    <tr style=\"text-align: right;\">\n",
       "      <th></th>\n",
       "      <th>followers_count</th>\n",
       "      <th>following_count</th>\n",
       "      <th>tweet_like_count</th>\n",
       "      <th>tweet_retweet_count</th>\n",
       "      <th>tweet_reply_count</th>\n",
       "    </tr>\n",
       "  </thead>\n",
       "  <tbody>\n",
       "    <tr>\n",
       "      <th>count</th>\n",
       "      <td>6.679400e+04</td>\n",
       "      <td>66794.000000</td>\n",
       "      <td>66794.000000</td>\n",
       "      <td>66794.000000</td>\n",
       "      <td>66794.000000</td>\n",
       "    </tr>\n",
       "    <tr>\n",
       "      <th>mean</th>\n",
       "      <td>4.140289e+04</td>\n",
       "      <td>1063.227401</td>\n",
       "      <td>17.437090</td>\n",
       "      <td>2.383642</td>\n",
       "      <td>1.124577</td>\n",
       "    </tr>\n",
       "    <tr>\n",
       "      <th>std</th>\n",
       "      <td>6.377623e+05</td>\n",
       "      <td>4574.256852</td>\n",
       "      <td>287.039873</td>\n",
       "      <td>38.472064</td>\n",
       "      <td>14.760980</td>\n",
       "    </tr>\n",
       "    <tr>\n",
       "      <th>min</th>\n",
       "      <td>0.000000e+00</td>\n",
       "      <td>0.000000</td>\n",
       "      <td>0.000000</td>\n",
       "      <td>0.000000</td>\n",
       "      <td>0.000000</td>\n",
       "    </tr>\n",
       "    <tr>\n",
       "      <th>25%</th>\n",
       "      <td>3.100000e+01</td>\n",
       "      <td>29.000000</td>\n",
       "      <td>0.000000</td>\n",
       "      <td>0.000000</td>\n",
       "      <td>0.000000</td>\n",
       "    </tr>\n",
       "    <tr>\n",
       "      <th>50%</th>\n",
       "      <td>1.930000e+02</td>\n",
       "      <td>180.000000</td>\n",
       "      <td>0.000000</td>\n",
       "      <td>0.000000</td>\n",
       "      <td>0.000000</td>\n",
       "    </tr>\n",
       "    <tr>\n",
       "      <th>75%</th>\n",
       "      <td>1.307000e+03</td>\n",
       "      <td>749.750000</td>\n",
       "      <td>1.000000</td>\n",
       "      <td>0.000000</td>\n",
       "      <td>0.000000</td>\n",
       "    </tr>\n",
       "    <tr>\n",
       "      <th>max</th>\n",
       "      <td>5.969826e+07</td>\n",
       "      <td>280962.000000</td>\n",
       "      <td>28162.000000</td>\n",
       "      <td>4404.000000</td>\n",
       "      <td>1352.000000</td>\n",
       "    </tr>\n",
       "  </tbody>\n",
       "</table>\n",
       "</div>"
      ],
      "text/plain": [
       "       followers_count  following_count  tweet_like_count  \\\n",
       "count     6.679400e+04     66794.000000      66794.000000   \n",
       "mean      4.140289e+04      1063.227401         17.437090   \n",
       "std       6.377623e+05      4574.256852        287.039873   \n",
       "min       0.000000e+00         0.000000          0.000000   \n",
       "25%       3.100000e+01        29.000000          0.000000   \n",
       "50%       1.930000e+02       180.000000          0.000000   \n",
       "75%       1.307000e+03       749.750000          1.000000   \n",
       "max       5.969826e+07    280962.000000      28162.000000   \n",
       "\n",
       "       tweet_retweet_count  tweet_reply_count  \n",
       "count         66794.000000       66794.000000  \n",
       "mean              2.383642           1.124577  \n",
       "std              38.472064          14.760980  \n",
       "min               0.000000           0.000000  \n",
       "25%               0.000000           0.000000  \n",
       "50%               0.000000           0.000000  \n",
       "75%               0.000000           0.000000  \n",
       "max            4404.000000        1352.000000  "
      ]
     },
     "execution_count": 5,
     "metadata": {},
     "output_type": "execute_result"
    }
   ],
   "source": [
    "df.describe()"
   ]
  },
  {
   "cell_type": "markdown",
   "id": "b1f21831",
   "metadata": {},
   "source": [
    "The description above shows the statistics of some of the data's features."
   ]
  },
  {
   "cell_type": "code",
   "execution_count": 6,
   "id": "30fb3128",
   "metadata": {},
   "outputs": [
    {
     "name": "stdout",
     "output_type": "stream",
     "text": [
      "<class 'pandas.core.frame.DataFrame'>\n",
      "RangeIndex: 66794 entries, 0 to 66793\n",
      "Data columns (total 12 columns):\n",
      " #   Column               Non-Null Count  Dtype \n",
      "---  ------               --------------  ----- \n",
      " 0   date_time            66794 non-null  object\n",
      " 1   username             66794 non-null  object\n",
      " 2   user_location        43292 non-null  object\n",
      " 3   user_description     58356 non-null  object\n",
      " 4   verified             66794 non-null  bool  \n",
      " 5   followers_count      66794 non-null  int64 \n",
      " 6   following_count      66794 non-null  int64 \n",
      " 7   tweet_like_count     66794 non-null  int64 \n",
      " 8   tweet_retweet_count  66794 non-null  int64 \n",
      " 9   tweet_reply_count    66794 non-null  int64 \n",
      " 10  source               66794 non-null  object\n",
      " 11  tweet_text           66794 non-null  object\n",
      "dtypes: bool(1), int64(5), object(6)\n",
      "memory usage: 5.7+ MB\n"
     ]
    }
   ],
   "source": [
    "df.info()"
   ]
  },
  {
   "cell_type": "markdown",
   "id": "a7feb4ed",
   "metadata": {},
   "source": [
    "As we could see, the description above shows the datatype and the number of null value on each columns. Turn out, there are multiple null value on the user_location and user_description column. Because there the user's location and description are not essential for the data exploration, I will not replace or delete the data that contain those said values."
   ]
  },
  {
   "cell_type": "markdown",
   "id": "39391f5e",
   "metadata": {},
   "source": [
    "## Exploratory Data Analysis"
   ]
  },
  {
   "cell_type": "markdown",
   "id": "76df623c",
   "metadata": {},
   "source": [
    "### Date"
   ]
  },
  {
   "cell_type": "code",
   "execution_count": 7,
   "id": "6c048a99",
   "metadata": {},
   "outputs": [
    {
     "data": {
      "text/plain": [
       "(0    2022-09-03 15:14:43+00:00\n",
       " Name: date_time, dtype: object,\n",
       " 66793    2022-07-11 16:02:51+00:00\n",
       " Name: date_time, dtype: object)"
      ]
     },
     "execution_count": 7,
     "metadata": {},
     "output_type": "execute_result"
    }
   ],
   "source": [
    "df.date_time.head(1), df.date_time.tail(1)"
   ]
  },
  {
   "cell_type": "markdown",
   "id": "7afb0cf0",
   "metadata": {},
   "source": [
    "The tweets data are gathered from July 11th, 2022 until September 3rd, 2022."
   ]
  },
  {
   "cell_type": "code",
   "execution_count": 8,
   "id": "0b2c5d20",
   "metadata": {},
   "outputs": [],
   "source": [
    "def to_date(dates):\n",
    "    return pd.to_datetime(dates.split(' ')[0], format='%Y-%m-%d')\n",
    "\n",
    "df['date'] = df.apply(lambda x: to_date(x['date_time']), axis=1)"
   ]
  },
  {
   "cell_type": "code",
   "execution_count": 9,
   "id": "9bc1a9a3",
   "metadata": {},
   "outputs": [],
   "source": [
    "monthly = df.date.dt.to_period('M')\n",
    "\n",
    "data = df.groupby(monthly)"
   ]
  },
  {
   "cell_type": "code",
   "execution_count": 10,
   "id": "c98647ff",
   "metadata": {},
   "outputs": [
    {
     "data": {
      "image/png": "[encoded data removed]",
      "text/plain": [
       "<Figure size 720x360 with 1 Axes>"
      ]
     },
     "metadata": {
      "needs_background": "light"
     },
     "output_type": "display_data"
    }
   ],
   "source": [
    "fig, ax = plt.subplots(figsize=(10, 5))\n",
    "sns.barplot(data=data.count(), x=data.count().date.index, y='source')\n",
    "ax.bar_label(ax.containers[0])\n",
    "plt.show()"
   ]
  },
  {
   "cell_type": "markdown",
   "id": "5ae914a7",
   "metadata": {},
   "source": [
    "Above are the number of tweet from each month observed. Most of the tweet are from August 2022."
   ]
  },
  {
   "cell_type": "code",
   "execution_count": 11,
   "id": "5b2e42de",
   "metadata": {},
   "outputs": [],
   "source": [
    "daily = df.date.dt.to_period('D')\n",
    "\n",
    "data = df.groupby(daily)"
   ]
  },
  {
   "cell_type": "code",
   "execution_count": 14,
   "id": "7177d2d0",
   "metadata": {},
   "outputs": [
    {
     "data": {
      "image/png": "[encoded data removed]",
      "text/plain": [
       "<Figure size 5400x360 with 1 Axes>"
      ]
     },
     "metadata": {
      "needs_background": "light"
     },
     "output_type": "display_data"
    }
   ],
   "source": [
    "f, ax = plt.subplots(figsize=(75,5))\n",
    "sns.barplot(data=data.count(), x=data.count().date.index, y='source')\n",
    "plt.show()"
   ]
  },
  {
   "cell_type": "markdown",
   "id": "f05bbcb8",
   "metadata": {},
   "source": [
    "Meanwhile, from the chart above, we could see that August 4th has the most tweet data that contain words iphone 14."
   ]
  },
  {
   "cell_type": "markdown",
   "id": "c8379264",
   "metadata": {},
   "source": [
    "### User Account"
   ]
  },
  {
   "cell_type": "markdown",
   "id": "25bdd8a6",
   "metadata": {},
   "source": [
    "#### Verified account"
   ]
  },
  {
   "cell_type": "code",
   "execution_count": 15,
   "id": "97c0c3b8",
   "metadata": {},
   "outputs": [
    {
     "data": {
      "image/png": "[encoded data removed]",
      "text/plain": [
       "<Figure size 360x360 with 1 Axes>"
      ]
     },
     "metadata": {
      "needs_background": "light"
     },
     "output_type": "display_data"
    }
   ],
   "source": [
    "fig, ax = plt.subplots(figsize=(5, 5))\n",
    "sns.countplot(data=df, x='verified')\n",
    "ax.bar_label(ax.containers[0])\n",
    "plt.show()"
   ]
  },
  {
   "cell_type": "markdown",
   "id": "205d8e28",
   "metadata": {},
   "source": [
    "There are mostly unverified account in the dataset."
   ]
  },
  {
   "cell_type": "markdown",
   "id": "c7a0a5b4",
   "metadata": {},
   "source": [
    "#### Followers count"
   ]
  },
  {
   "cell_type": "markdown",
   "id": "4a839aaf",
   "metadata": {},
   "source": [
    "First, let's see the maximum and minimum followers count in the dataset."
   ]
  },
  {
   "cell_type": "code",
   "execution_count": 16,
   "id": "dab379cc",
   "metadata": {},
   "outputs": [
    {
     "data": {
      "text/plain": [
       "(59698256, 0)"
      ]
     },
     "execution_count": 16,
     "metadata": {},
     "output_type": "execute_result"
    }
   ],
   "source": [
    "max(df['followers_count']), min(df['followers_count'])"
   ]
  },
  {
   "cell_type": "code",
   "execution_count": 17,
   "id": "6457dbf1",
   "metadata": {},
   "outputs": [
    {
     "data": {
      "image/png": "[encoded data removed]",
      "text/plain": [
       "<Figure size 720x360 with 1 Axes>"
      ]
     },
     "metadata": {
      "needs_background": "light"
     },
     "output_type": "display_data"
    }
   ],
   "source": [
    "fig, ax = plt.subplots(figsize=(10, 5))\n",
    "sns.histplot(df['followers_count'], bins=np.arange(0, 6000000, 1000000))\n",
    "ax.bar_label(ax.containers[0])\n",
    "plt.xticks(np.arange(0, 6000000, 1000000))\n",
    "plt.show()"
   ]
  },
  {
   "cell_type": "markdown",
   "id": "ba851afa",
   "metadata": {},
   "source": [
    "The histogram above shows that majority of the account that tweet about iphone 14 have less than a million folowers (66374 tweets).\n",
    "\n",
    "Let's see how many tweet's account that has less than 100.000 followers in the histogram below."
   ]
  },
  {
   "cell_type": "code",
   "execution_count": 18,
   "id": "9c2577d2",
   "metadata": {},
   "outputs": [
    {
     "data": {
      "image/png": "[encoded data removed]",
      "text/plain": [
       "<Figure size 720x360 with 1 Axes>"
      ]
     },
     "metadata": {
      "needs_background": "light"
     },
     "output_type": "display_data"
    }
   ],
   "source": [
    "fig, ax = plt.subplots(figsize=(10, 5))\n",
    "sns.histplot(df['followers_count'], bins=np.arange(0, 100000, 10000))\n",
    "ax.bar_label(ax.containers[0])\n",
    "plt.xticks(np.arange(0, 100000, 10000))\n",
    "plt.show()"
   ]
  },
  {
   "cell_type": "markdown",
   "id": "e35edcd8",
   "metadata": {},
   "source": [
    "It shows that most of the account (60535) have 10.000 followers or less."
   ]
  },
  {
   "cell_type": "markdown",
   "id": "e1b18190",
   "metadata": {},
   "source": [
    "#### Following count"
   ]
  },
  {
   "cell_type": "code",
   "execution_count": 19,
   "id": "7ffa9835",
   "metadata": {},
   "outputs": [
    {
     "data": {
      "image/png": "[encoded data removed]",
      "text/plain": [
       "<Figure size 720x360 with 1 Axes>"
      ]
     },
     "metadata": {
      "needs_background": "light"
     },
     "output_type": "display_data"
    }
   ],
   "source": [
    "fig, ax = plt.subplots(figsize=(10, 5))\n",
    "sns.histplot(df['following_count'], bins=np.arange(0, 100000, 10000))\n",
    "ax.bar_label(ax.containers[0])\n",
    "plt.xticks(np.arange(0, 100000, 10000))\n",
    "plt.show()"
   ]
  },
  {
   "cell_type": "markdown",
   "id": "8e137140",
   "metadata": {},
   "source": [
    "Meanwhile, most of the tweitter accounts on the dataset has less than 10000 following count."
   ]
  },
  {
   "cell_type": "markdown",
   "id": "6adaf5c5",
   "metadata": {},
   "source": [
    "### Tweet"
   ]
  },
  {
   "cell_type": "markdown",
   "id": "031cfd72",
   "metadata": {},
   "source": [
    "In this section, we will look closer at the tweet's analytics (like, retweet and replies)."
   ]
  },
  {
   "cell_type": "markdown",
   "id": "1960f366",
   "metadata": {},
   "source": [
    "#### Tweet like"
   ]
  },
  {
   "cell_type": "code",
   "execution_count": 20,
   "id": "91d9d60f",
   "metadata": {},
   "outputs": [
    {
     "data": {
      "text/plain": [
       "(28162, 0)"
      ]
     },
     "execution_count": 20,
     "metadata": {},
     "output_type": "execute_result"
    }
   ],
   "source": [
    "max(df['tweet_like_count']), min(df['tweet_like_count'])"
   ]
  },
  {
   "cell_type": "code",
   "execution_count": 21,
   "id": "f4fc918d",
   "metadata": {},
   "outputs": [
    {
     "data": {
      "text/plain": [
       "<AxesSubplot:ylabel='tweet_like_count'>"
      ]
     },
     "execution_count": 21,
     "metadata": {},
     "output_type": "execute_result"
    },
    {
     "data": {
      "image/png": "[encoded data removed]",
      "text/plain": [
       "<Figure size 432x720 with 1 Axes>"
      ]
     },
     "metadata": {
      "needs_background": "light"
     },
     "output_type": "display_data"
    }
   ],
   "source": [
    "fig, ax = plt.subplots(figsize=(6, 10))\n",
    "sns.boxplot(y=df['tweet_like_count'])"
   ]
  },
  {
   "cell_type": "markdown",
   "id": "eaad59d3",
   "metadata": {},
   "source": [
    "The tweet like count in the dataset varied from 0 to 28162. Let's see in detail the tweet like count that less than 10000 likes."
   ]
  },
  {
   "cell_type": "code",
   "execution_count": 22,
   "id": "350cb930",
   "metadata": {},
   "outputs": [
    {
     "data": {
      "image/png": "[encoded data removed]",
      "text/plain": [
       "<Figure size 720x360 with 1 Axes>"
      ]
     },
     "metadata": {
      "needs_background": "light"
     },
     "output_type": "display_data"
    }
   ],
   "source": [
    "fig, ax = plt.subplots(figsize=(10, 5))\n",
    "sns.histplot(df['tweet_like_count'], bins=np.arange(0, 10000, 1000))\n",
    "ax.bar_label(ax.containers[0])\n",
    "plt.xticks(np.arange(0, 10000, 1000))\n",
    "plt.show()"
   ]
  },
  {
   "cell_type": "markdown",
   "id": "c6af26e9",
   "metadata": {},
   "source": [
    "Turns out, the majority of the tweet has less than 1000 likes (66580 tweets)."
   ]
  },
  {
   "cell_type": "markdown",
   "id": "cbc6c620",
   "metadata": {},
   "source": [
    "#### Tweet retweet"
   ]
  },
  {
   "cell_type": "code",
   "execution_count": 23,
   "id": "abedafdb",
   "metadata": {},
   "outputs": [
    {
     "data": {
      "text/plain": [
       "(4404, 0)"
      ]
     },
     "execution_count": 23,
     "metadata": {},
     "output_type": "execute_result"
    }
   ],
   "source": [
    "max(df['tweet_retweet_count']), min(df['tweet_retweet_count'])"
   ]
  },
  {
   "cell_type": "code",
   "execution_count": 24,
   "id": "d3909a31",
   "metadata": {},
   "outputs": [
    {
     "data": {
      "text/plain": [
       "<AxesSubplot:ylabel='tweet_retweet_count'>"
      ]
     },
     "execution_count": 24,
     "metadata": {},
     "output_type": "execute_result"
    },
    {
     "data": {
      "image/png": "[encoded data removed]",
      "text/plain": [
       "<Figure size 432x720 with 1 Axes>"
      ]
     },
     "metadata": {
      "needs_background": "light"
     },
     "output_type": "display_data"
    }
   ],
   "source": [
    "fig, ax = plt.subplots(figsize=(6, 10))\n",
    "sns.boxplot(y=df['tweet_retweet_count'])"
   ]
  },
  {
   "cell_type": "code",
   "execution_count": 25,
   "id": "ae2856dd",
   "metadata": {},
   "outputs": [
    {
     "data": {
      "image/png": "[encoded data removed]",
      "text/plain": [
       "<Figure size 720x360 with 1 Axes>"
      ]
     },
     "metadata": {
      "needs_background": "light"
     },
     "output_type": "display_data"
    }
   ],
   "source": [
    "fig, ax = plt.subplots(figsize=(10, 5))\n",
    "sns.histplot(df['tweet_retweet_count'], bins=np.arange(0, 4000, 500))\n",
    "ax.bar_label(ax.containers[0])\n",
    "plt.xticks(np.arange(0, 4000, 500))\n",
    "plt.show()"
   ]
  },
  {
   "cell_type": "markdown",
   "id": "b81af964",
   "metadata": {},
   "source": [
    "As we can see in the histogram above, most of the tweets have less than 500 retweet count (66749 tweets)."
   ]
  },
  {
   "cell_type": "markdown",
   "id": "404a54e1",
   "metadata": {},
   "source": [
    "#### Tweet replies"
   ]
  },
  {
   "cell_type": "code",
   "execution_count": 26,
   "id": "c13036b7",
   "metadata": {},
   "outputs": [
    {
     "data": {
      "text/plain": [
       "(1352, 0)"
      ]
     },
     "execution_count": 26,
     "metadata": {},
     "output_type": "execute_result"
    }
   ],
   "source": [
    "max(df['tweet_reply_count']), min(df['tweet_reply_count'])"
   ]
  },
  {
   "cell_type": "code",
   "execution_count": 27,
   "id": "9235bb59",
   "metadata": {},
   "outputs": [
    {
     "data": {
      "text/plain": [
       "<AxesSubplot:ylabel='tweet_reply_count'>"
      ]
     },
     "execution_count": 27,
     "metadata": {},
     "output_type": "execute_result"
    },
    {
     "data": {
      "image/png": "[encoded data removed]",
      "text/plain": [
       "<Figure size 432x720 with 1 Axes>"
      ]
     },
     "metadata": {
      "needs_background": "light"
     },
     "output_type": "display_data"
    }
   ],
   "source": [
    "fig, ax = plt.subplots(figsize=(6, 10))\n",
    "sns.boxplot(y=df['tweet_reply_count'])"
   ]
  },
  {
   "cell_type": "code",
   "execution_count": 28,
   "id": "5587e066",
   "metadata": {},
   "outputs": [
    {
     "data": {
      "image/png": "[encoded data removed]",
      "text/plain": [
       "<Figure size 720x360 with 1 Axes>"
      ]
     },
     "metadata": {
      "needs_background": "light"
     },
     "output_type": "display_data"
    }
   ],
   "source": [
    "fig, ax = plt.subplots(figsize=(10, 5))\n",
    "sns.histplot(df['tweet_reply_count'], bins=np.arange(0, 1400, 100))\n",
    "ax.bar_label(ax.containers[0])\n",
    "plt.xticks(np.arange(0, 1400, 100))\n",
    "plt.show()"
   ]
  },
  {
   "cell_type": "markdown",
   "id": "fc279c93",
   "metadata": {},
   "source": [
    "Meanwhile, for the replies count, majority of the tweets have 100 replies or less."
   ]
  },
  {
   "cell_type": "markdown",
   "id": "994d784f",
   "metadata": {},
   "source": [
    "### Tweet text"
   ]
  },
  {
   "cell_type": "markdown",
   "id": "adeee42f",
   "metadata": {},
   "source": [
    "In this section, we will analyze the tweet's text in the dataset."
   ]
  },
  {
   "cell_type": "code",
   "execution_count": 29,
   "id": "9747bf33",
   "metadata": {},
   "outputs": [
    {
     "data": {
      "text/plain": [
       "0        iPhone 14 Professional Alleged Reside Video Su...\n",
       "1        üëà‰∏ªÈ°µ‰∏ªÈ°µ This trick lets you visualize...\n",
       "2                  @thebams_dele Iphone 14 pro max uk used\n",
       "3        Video Claiming iPhone 14 Pro Users Will Be Abl...\n",
       "4        New iPhone 14 Pro is gonna look so sick can't ...\n",
       "                               ...                        \n",
       "66789    iPhone 14 ENTIRE Lineup Early Look - https://t...\n",
       "66790    iPhone 14 strength will battle weak consumer s...\n",
       "66791    @robertrosenfeld My Pixel 4's battery, never t...\n",
       "66792    i don‚Äôt understand people who buy every new ...\n",
       "66793    iPhone 14 Series Could Cost $100 Higher Than i...\n",
       "Name: tweet_text, Length: 66794, dtype: object"
      ]
     },
     "execution_count": 29,
     "metadata": {},
     "output_type": "execute_result"
    }
   ],
   "source": [
    "df.tweet_text"
   ]
  },
  {
   "cell_type": "markdown",
   "id": "22dbb142",
   "metadata": {},
   "source": [
    "Below, we will do preprocessing to the tweet's text by removing link, mention to other account, and punctuation."
   ]
  },
  {
   "cell_type": "code",
   "execution_count": 30,
   "id": "a54bbd7f",
   "metadata": {},
   "outputs": [],
   "source": [
    "def preprocess_tweet(tweet):\n",
    "    tweet = re.sub('https?://\\S+|www\\.\\S+', ' ', tweet)\n",
    "    tweet = re.sub('\\@.*?\\s', ' ', tweet)\n",
    "    tweet = re.sub('[^a-zA-Z\\d\\s\\$]', ' ', tweet)\n",
    "    tweet = re.sub('\\s+', ' ', tweet)\n",
    "    tweet = ' '.join([x.lower() for x in tweet.split(' ')])\n",
    "    return tweet"
   ]
  },
  {
   "cell_type": "code",
   "execution_count": 31,
   "id": "b159c84a",
   "metadata": {},
   "outputs": [],
   "source": [
    "df['clean_tweet_text'] = df.apply(lambda x: preprocess_tweet(x.tweet_text), axis=1)"
   ]
  },
  {
   "cell_type": "code",
   "execution_count": 32,
   "id": "6f3a8d2d",
   "metadata": {},
   "outputs": [
    {
     "data": {
      "text/plain": [
       "0        iphone 14 professional alleged reside video su...\n",
       "1         this trick lets you visualize the new iphone ...\n",
       "2                                iphone 14 pro max uk used\n",
       "3        video claiming iphone 14 pro users will be abl...\n",
       "4        new iphone 14 pro is gonna look so sick can t ...\n",
       "                               ...                        \n",
       "66789                  iphone 14 entire lineup early look \n",
       "66790    iphone 14 strength will battle weak consumer s...\n",
       "66791     my pixel 4 s battery never that great is on i...\n",
       "66792    i don t understand people who buy every new ip...\n",
       "66793    iphone 14 series could cost $100 higher than i...\n",
       "Name: clean_tweet_text, Length: 66794, dtype: object"
      ]
     },
     "execution_count": 32,
     "metadata": {},
     "output_type": "execute_result"
    }
   ],
   "source": [
    "df['clean_tweet_text']"
   ]
  },
  {
   "cell_type": "markdown",
   "id": "e26b700c",
   "metadata": {},
   "source": [
    "Next, we will analyze the number of words in the tweets data."
   ]
  },
  {
   "cell_type": "code",
   "execution_count": 33,
   "id": "24c84f50",
   "metadata": {},
   "outputs": [],
   "source": [
    "def num_of_words(tweet):\n",
    "    return len([x for x in tweet.split()])"
   ]
  },
  {
   "cell_type": "code",
   "execution_count": 34,
   "id": "b4c9d430",
   "metadata": {},
   "outputs": [],
   "source": [
    "df['num_of_words'] = df.apply(lambda x: num_of_words(x['clean_tweet_text']), axis=1)"
   ]
  },
  {
   "cell_type": "code",
   "execution_count": 35,
   "id": "4edd9cbf",
   "metadata": {},
   "outputs": [
    {
     "data": {
      "image/png": "[encoded data removed]",
      "text/plain": [
       "<Figure size 1080x720 with 1 Axes>"
      ]
     },
     "metadata": {
      "needs_background": "light"
     },
     "output_type": "display_data"
    }
   ],
   "source": [
    "fig, ax = plt.subplots(figsize=(15, 10))\n",
    "sns.histplot(df['num_of_words'], bins=np.arange(0, 70, 10))\n",
    "ax.bar_label(ax.containers[0])\n",
    "plt.xticks(np.arange(0, 70, 10))\n",
    "plt.show()"
   ]
  },
  {
   "cell_type": "markdown",
   "id": "1cd907e1",
   "metadata": {},
   "source": [
    "The graph above shows that majority of the tweet data contain 10 to 20 words."
   ]
  },
  {
   "cell_type": "markdown",
   "id": "d85ba842",
   "metadata": {},
   "source": [
    "## Sentiment Analysis"
   ]
  },
  {
   "cell_type": "markdown",
   "id": "2f7d9ec2",
   "metadata": {},
   "source": [
    "First let's preprocess the tweet data using the help of NLTK. In the preprocess stage, we will tokenize the tweet using word_tokenize from NLTK, and then remove the stopwords that provided by NLTK English's stopwords."
   ]
  },
  {
   "cell_type": "code",
   "execution_count": 36,
   "id": "c9b37701",
   "metadata": {},
   "outputs": [],
   "source": [
    "sw = set(stopwords.words('english'))"
   ]
  },
  {
   "cell_type": "code",
   "execution_count": 37,
   "id": "fb9daae2",
   "metadata": {},
   "outputs": [],
   "source": [
    "# take the clean tweet in the dataset\n",
    "tweets = df.clean_tweet_text"
   ]
  },
  {
   "cell_type": "code",
   "execution_count": 38,
   "id": "058ae9d3",
   "metadata": {},
   "outputs": [],
   "source": [
    "# tokenize the tweet text using NLTK\n",
    "tknz_tweets = [word_tokenize(w) for w in tweets]"
   ]
  },
  {
   "cell_type": "code",
   "execution_count": 39,
   "id": "610fb29d",
   "metadata": {},
   "outputs": [],
   "source": [
    "# remove the words that are on NLTK stopwords\n",
    "sw_tweets = []\n",
    "for tweet in tknz_tweets:\n",
    "    tweet = ' '.join([t for t in tweet if t not in sw])\n",
    "    sw_tweets.append(tweet)"
   ]
  },
  {
   "cell_type": "markdown",
   "id": "c8f9d575",
   "metadata": {},
   "source": [
    "Then, we will collect the sentiment for each tweet using vaderSentiment and store it into another dataframe.\n",
    "\n",
    "vaderSentiment will return four different scores for the sentence that being checked, which are pos, compound, neu, and neg. In order to see the sentiment of the text, we will only view the compound score as the threshold values. Based on vaderSentiment's documentation:\n",
    "\n",
    "- compound score >=0.05 means that the text has positive sentiment \n",
    "- compound score between -0.05 and 0.05 means neutral sentiment\n",
    "- compound score <=-0.05 means the text has negative sentiment."
   ]
  },
  {
   "cell_type": "code",
   "execution_count": 40,
   "id": "902d9908",
   "metadata": {},
   "outputs": [],
   "source": [
    "# create the vaderSentiment's SentimentIntensityAnalyzer object\n",
    "analyzer = SentimentIntensityAnalyzer()"
   ]
  },
  {
   "cell_type": "code",
   "execution_count": 41,
   "id": "afbdaaac",
   "metadata": {},
   "outputs": [],
   "source": [
    "analyzed_tweet = dict()\n",
    "idx = 0\n",
    "\n",
    "for t in sw_tweets:\n",
    "    # analyze the polarity scores of the text\n",
    "    cp = analyzer.polarity_scores(t)['compound']\n",
    "    \n",
    "    # label the text based on its compound score\n",
    "    if cp >= 0.05:\n",
    "        sentiment = 'pos'\n",
    "    elif cp <0.05 and cp > -0.05:\n",
    "        sentiment = 'neu'\n",
    "    else:\n",
    "        sentiment = 'neg'\n",
    "        \n",
    "    # store the result\n",
    "    analyzed_tweet[idx] = {'text': df['tweet_text'][idx],\n",
    "                           'clean_text': t,\n",
    "                            'compound': cp,\n",
    "                            'sentiment': sentiment}\n",
    "    idx+=1"
   ]
  },
  {
   "cell_type": "code",
   "execution_count": 42,
   "id": "4312e7bf",
   "metadata": {},
   "outputs": [],
   "source": [
    "# create dataframe based on the analyzed tweet result\n",
    "df_tweet = pd.DataFrame(analyzed_tweet).transpose()"
   ]
  },
  {
   "cell_type": "code",
   "execution_count": 43,
   "id": "47e657f8",
   "metadata": {},
   "outputs": [
    {
     "data": {
      "text/html": [
       "<div>\n",
       "<style scoped>\n",
       "    .dataframe tbody tr th:only-of-type {\n",
       "        vertical-align: middle;\n",
       "    }\n",
       "\n",
       "    .dataframe tbody tr th {\n",
       "        vertical-align: top;\n",
       "    }\n",
       "\n",
       "    .dataframe thead th {\n",
       "        text-align: right;\n",
       "    }\n",
       "</style>\n",
       "<table border=\"1\" class=\"dataframe\">\n",
       "  <thead>\n",
       "    <tr style=\"text-align: right;\">\n",
       "      <th></th>\n",
       "      <th>text</th>\n",
       "      <th>clean_text</th>\n",
       "      <th>compound</th>\n",
       "      <th>sentiment</th>\n",
       "    </tr>\n",
       "  </thead>\n",
       "  <tbody>\n",
       "    <tr>\n",
       "      <th>0</th>\n",
       "      <td>iPhone 14 Professional Alleged Reside Video Su...</td>\n",
       "      <td>iphone 14 professional alleged reside video su...</td>\n",
       "      <td>0.3818</td>\n",
       "      <td>pos</td>\n",
       "    </tr>\n",
       "    <tr>\n",
       "      <th>1</th>\n",
       "      <td>üëà‰∏ªÈ°µ‰∏ªÈ°µ This trick lets you visualize...</td>\n",
       "      <td>trick lets visualize new iphone 14 cutout ipho...</td>\n",
       "      <td>-0.1027</td>\n",
       "      <td>neg</td>\n",
       "    </tr>\n",
       "    <tr>\n",
       "      <th>2</th>\n",
       "      <td>@thebams_dele Iphone 14 pro max uk used</td>\n",
       "      <td>iphone 14 pro max uk used</td>\n",
       "      <td>0.0</td>\n",
       "      <td>neu</td>\n",
       "    </tr>\n",
       "    <tr>\n",
       "      <th>3</th>\n",
       "      <td>Video Claiming iPhone 14 Pro Users Will Be Abl...</td>\n",
       "      <td>video claiming iphone 14 pro users able custom...</td>\n",
       "      <td>0.4215</td>\n",
       "      <td>pos</td>\n",
       "    </tr>\n",
       "    <tr>\n",
       "      <th>4</th>\n",
       "      <td>New iPhone 14 Pro is gonna look so sick can't ...</td>\n",
       "      <td>new iphone 14 pro gon na look sick wait apple ...</td>\n",
       "      <td>-0.5106</td>\n",
       "      <td>neg</td>\n",
       "    </tr>\n",
       "  </tbody>\n",
       "</table>\n",
       "</div>"
      ],
      "text/plain": [
       "                                                text  \\\n",
       "0  iPhone 14 Professional Alleged Reside Video Su...   \n",
       "1  üëà‰∏ªÈ°µ‰∏ªÈ°µ This trick lets you visualize...   \n",
       "2            @thebams_dele Iphone 14 pro max uk used   \n",
       "3  Video Claiming iPhone 14 Pro Users Will Be Abl...   \n",
       "4  New iPhone 14 Pro is gonna look so sick can't ...   \n",
       "\n",
       "                                          clean_text compound sentiment  \n",
       "0  iphone 14 professional alleged reside video su...   0.3818       pos  \n",
       "1  trick lets visualize new iphone 14 cutout ipho...  -0.1027       neg  \n",
       "2                          iphone 14 pro max uk used      0.0       neu  \n",
       "3  video claiming iphone 14 pro users able custom...   0.4215       pos  \n",
       "4  new iphone 14 pro gon na look sick wait apple ...  -0.5106       neg  "
      ]
     },
     "execution_count": 43,
     "metadata": {},
     "output_type": "execute_result"
    }
   ],
   "source": [
    "df_tweet.head(5)"
   ]
  },
  {
   "cell_type": "markdown",
   "id": "33cdf942",
   "metadata": {},
   "source": [
    "Let's view the sample of each sentiment."
   ]
  },
  {
   "cell_type": "code",
   "execution_count": 44,
   "id": "3c37ba31",
   "metadata": {},
   "outputs": [],
   "source": [
    "pd.set_option('display.max_colwidth', None)"
   ]
  },
  {
   "cell_type": "code",
   "execution_count": 45,
   "id": "50674f0a",
   "metadata": {},
   "outputs": [],
   "source": [
    "# view positive tweets\n",
    "pos = df_tweet[df_tweet.sentiment=='pos']"
   ]
  },
  {
   "cell_type": "code",
   "execution_count": 59,
   "id": "9e43ab49",
   "metadata": {},
   "outputs": [
    {
     "data": {
      "text/html": [
       "<div>\n",
       "<style scoped>\n",
       "    .dataframe tbody tr th:only-of-type {\n",
       "        vertical-align: middle;\n",
       "    }\n",
       "\n",
       "    .dataframe tbody tr th {\n",
       "        vertical-align: top;\n",
       "    }\n",
       "\n",
       "    .dataframe thead th {\n",
       "        text-align: right;\n",
       "    }\n",
       "</style>\n",
       "<table border=\"1\" class=\"dataframe\">\n",
       "  <thead>\n",
       "    <tr style=\"text-align: right;\">\n",
       "      <th></th>\n",
       "      <th>text</th>\n",
       "      <th>clean_text</th>\n",
       "      <th>compound</th>\n",
       "      <th>sentiment</th>\n",
       "    </tr>\n",
       "  </thead>\n",
       "  <tbody>\n",
       "    <tr>\n",
       "      <th>48558</th>\n",
       "      <td>hope y'all ready üíñüéâ\\nSunday is few days from now üòãüéâ\\n\\nBig wiz l #poweredbydata l #obidiots l iPhone 14 l #StayingAlive  l Mr Bayo l #ashawo l Fireboy l IT IS DONE l NBA YoungBoy l warstart l ASUU</td>\n",
       "      <td>hope ready sunday days big wiz l poweredbydata l obidiots l iphone 14 l stayingalive l mr bayo l ashawo l fireboy l done l nba youngboy l warstart l asuu</td>\n",
       "      <td>0.9886</td>\n",
       "      <td>pos</td>\n",
       "    </tr>\n",
       "    <tr>\n",
       "      <th>51754</th>\n",
       "      <td>Today we celebrate a sweetheart @ivy_buttercup. Only the most beautiful things are said about you, we love how you genuinely care about all of us &amp;amp; we are grateful for the gift of you. May God grant the innermost yearnings of your heart.\\n#influenceculture #mingle iphone 14 ASUU https://t.co/bnrGI1D6xW</td>\n",
       "      <td>today celebrate sweetheart beautiful things said love genuinely care us amp grateful gift may god grant innermost yearnings heart influenceculture mingle iphone 14 asuu</td>\n",
       "      <td>0.9872</td>\n",
       "      <td>pos</td>\n",
       "    </tr>\n",
       "    <tr>\n",
       "      <th>36377</th>\n",
       "      <td>@joscarp123 @Jasont7T Iphone 14 coming soon so wait lol thought I would bever say that to you about your iphone ! lol  congrats on locking in gains you are so consistent each day it's so amazing!  Wonderful work ! and part time lol! congrats! https://t.co/hzkNwlWx7J</td>\n",
       "      <td>iphone 14 coming soon wait lol thought would bever say iphone lol congrats locking gains consistent day amazing wonderful work part time lol congrats</td>\n",
       "      <td>0.9753</td>\n",
       "      <td>pos</td>\n",
       "    </tr>\n",
       "    <tr>\n",
       "      <th>60178</th>\n",
       "      <td>Congratulation!\\nWith a total order price over $500,000Ôºådear customer from Bangladesh, WON an Iphone 14 during the activity. \\nMany thanks to all my esteemed clients for your tremendous support, so we have prepared this  Gratitude Reward. https://t.co/GyNNgmj0CO</td>\n",
       "      <td>congratulation total order price $ 500 000 dear customer bangladesh iphone 14 activity many thanks esteemed clients tremendous support prepared gratitude reward</td>\n",
       "      <td>0.9743</td>\n",
       "      <td>pos</td>\n",
       "    </tr>\n",
       "    <tr>\n",
       "      <th>64595</th>\n",
       "      <td>Do I wanna fall in love? Heck yeah. Am I afraid? I can‚Äôt say I‚Äôm not. Am I to close my heart? Not really, no. Am I to open my heart like wide open like ‚Äúcome on in, girls. Yea get your free iPhone 14 Pro Max‚Äù? Not anymore.</td>\n",
       "      <td>wan na fall love heck yeah afraid say close heart really open heart like wide open like come girls yea get free iphone 14 pro max anymore</td>\n",
       "      <td>0.974</td>\n",
       "      <td>pos</td>\n",
       "    </tr>\n",
       "  </tbody>\n",
       "</table>\n",
       "</div>"
      ],
      "text/plain": [
       "                                                                                                                                                                                                                                                                                                                      text  \\\n",
       "48558                                                                                                     hope y'all ready üíñüéâ\\nSunday is few days from now üòãüéâ\\n\\nBig wiz l #poweredbydata l #obidiots l iPhone 14 l #StayingAlive  l Mr Bayo l #ashawo l Fireboy l IT IS DONE l NBA YoungBoy l warstart l ASUU   \n",
       "51754  Today we celebrate a sweetheart @ivy_buttercup. Only the most beautiful things are said about you, we love how you genuinely care about all of us &amp; we are grateful for the gift of you. May God grant the innermost yearnings of your heart.\\n#influenceculture #mingle iphone 14 ASUU https://t.co/bnrGI1D6xW   \n",
       "36377                                           @joscarp123 @Jasont7T Iphone 14 coming soon so wait lol thought I would bever say that to you about your iphone ! lol  congrats on locking in gains you are so consistent each day it's so amazing!  Wonderful work ! and part time lol! congrats! https://t.co/hzkNwlWx7J   \n",
       "60178                                             Congratulation!\\nWith a total order price over $500,000Ôºådear customer from Bangladesh, WON an Iphone 14 during the activity. \\nMany thanks to all my esteemed clients for your tremendous support, so we have prepared this  Gratitude Reward. https://t.co/GyNNgmj0CO   \n",
       "64595                                                                               Do I wanna fall in love? Heck yeah. Am I afraid? I can‚Äôt say I‚Äôm not. Am I to close my heart? Not really, no. Am I to open my heart like wide open like ‚Äúcome on in, girls. Yea get your free iPhone 14 Pro Max‚Äù? Not anymore.   \n",
       "\n",
       "                                                                                                                                                                     clean_text  \\\n",
       "48558                 hope ready sunday days big wiz l poweredbydata l obidiots l iphone 14 l stayingalive l mr bayo l ashawo l fireboy l done l nba youngboy l warstart l asuu   \n",
       "51754  today celebrate sweetheart beautiful things said love genuinely care us amp grateful gift may god grant innermost yearnings heart influenceculture mingle iphone 14 asuu   \n",
       "36377                     iphone 14 coming soon wait lol thought would bever say iphone lol congrats locking gains consistent day amazing wonderful work part time lol congrats   \n",
       "60178          congratulation total order price $ 500 000 dear customer bangladesh iphone 14 activity many thanks esteemed clients tremendous support prepared gratitude reward   \n",
       "64595                                 wan na fall love heck yeah afraid say close heart really open heart like wide open like come girls yea get free iphone 14 pro max anymore   \n",
       "\n",
       "      compound sentiment  \n",
       "48558   0.9886       pos  \n",
       "51754   0.9872       pos  \n",
       "36377   0.9753       pos  \n",
       "60178   0.9743       pos  \n",
       "64595    0.974       pos  "
      ]
     },
     "execution_count": 59,
     "metadata": {},
     "output_type": "execute_result"
    }
   ],
   "source": [
    "pos.sort_values(by='compound', ascending=False)[:5]"
   ]
  },
  {
   "cell_type": "code",
   "execution_count": 53,
   "id": "5d760837",
   "metadata": {},
   "outputs": [],
   "source": [
    "# view neutral tweets\n",
    "neu = df_tweet[df_tweet.sentiment=='neu']"
   ]
  },
  {
   "cell_type": "code",
   "execution_count": 60,
   "id": "2de10594",
   "metadata": {},
   "outputs": [
    {
     "data": {
      "text/html": [
       "<div>\n",
       "<style scoped>\n",
       "    .dataframe tbody tr th:only-of-type {\n",
       "        vertical-align: middle;\n",
       "    }\n",
       "\n",
       "    .dataframe tbody tr th {\n",
       "        vertical-align: top;\n",
       "    }\n",
       "\n",
       "    .dataframe thead th {\n",
       "        text-align: right;\n",
       "    }\n",
       "</style>\n",
       "<table border=\"1\" class=\"dataframe\">\n",
       "  <thead>\n",
       "    <tr style=\"text-align: right;\">\n",
       "      <th></th>\n",
       "      <th>text</th>\n",
       "      <th>clean_text</th>\n",
       "      <th>compound</th>\n",
       "      <th>sentiment</th>\n",
       "    </tr>\n",
       "  </thead>\n",
       "  <tbody>\n",
       "    <tr>\n",
       "      <th>14594</th>\n",
       "      <td>Ima be so upset if this iPhone 14 really look like the 13 Bc i still got the 12 . üôÑ</td>\n",
       "      <td>ima upset iphone 14 really look like 13 bc still got 12</td>\n",
       "      <td>0.046</td>\n",
       "      <td>neu</td>\n",
       "    </tr>\n",
       "    <tr>\n",
       "      <th>2947</th>\n",
       "      <td>@iam_tech Looking forward to the iphone 14 but nothing wrong with his comparison.  Those specs have been leaked and 99% will be accurate. Innovation has never been apples strong suit, they copy others. But ios and ipad os getting major updates is something to look forward to.</td>\n",
       "      <td>looking forward iphone 14 nothing wrong comparison specs leaked 99 accurate innovation never apples strong suit copy others ios ipad os getting major updates something look forward</td>\n",
       "      <td>0.0392</td>\n",
       "      <td>neu</td>\n",
       "    </tr>\n",
       "    <tr>\n",
       "      <th>51749</th>\n",
       "      <td>You will never be good enough to the wrong the person, so be your self. \\n\\n#BBNaija Nigerien iPhone 14 Deborah IPPIS TG Omori ASUU #BB24</td>\n",
       "      <td>never good enough wrong person self bbnaija nigerien iphone 14 deborah ippis tg omori asuu bb24</td>\n",
       "      <td>0.0382</td>\n",
       "      <td>neu</td>\n",
       "    </tr>\n",
       "    <tr>\n",
       "      <th>41559</th>\n",
       "      <td>Would you still buy iPhone 14 Pro despite rumored price increase? =&amp;gt; https://t.co/wwHoP8z7Xv</td>\n",
       "      <td>would still buy iphone 14 pro despite rumored price increase gt</td>\n",
       "      <td>0.0356</td>\n",
       "      <td>neu</td>\n",
       "    </tr>\n",
       "    <tr>\n",
       "      <th>26574</th>\n",
       "      <td>#apple #tech #mac - iPhone 14 to spur more upgrades than iPhone 13 despite price increase, survey suggests - https://t.co/uzYki6bhjb -&amp;gt; @Davidjcc_Zgz https://t.co/XlzflQPUIr</td>\n",
       "      <td>apple tech mac iphone 14 spur upgrades iphone 13 despite price increase survey suggests gt</td>\n",
       "      <td>0.0356</td>\n",
       "      <td>neu</td>\n",
       "    </tr>\n",
       "  </tbody>\n",
       "</table>\n",
       "</div>"
      ],
      "text/plain": [
       "                                                                                                                                                                                                                                                                                       text  \\\n",
       "14594                                                                                                                                                                                                Ima be so upset if this iPhone 14 really look like the 13 Bc i still got the 12 . üôÑ   \n",
       "2947   @iam_tech Looking forward to the iphone 14 but nothing wrong with his comparison.  Those specs have been leaked and 99% will be accurate. Innovation has never been apples strong suit, they copy others. But ios and ipad os getting major updates is something to look forward to.   \n",
       "51749                                                                                                                                             You will never be good enough to the wrong the person, so be your self. \\n\\n#BBNaija Nigerien iPhone 14 Deborah IPPIS TG Omori ASUU #BB24   \n",
       "41559                                                                                                                                                                                       Would you still buy iPhone 14 Pro despite rumored price increase? =&gt; https://t.co/wwHoP8z7Xv   \n",
       "26574                                                                                                      #apple #tech #mac - iPhone 14 to spur more upgrades than iPhone 13 despite price increase, survey suggests - https://t.co/uzYki6bhjb -&gt; @Davidjcc_Zgz https://t.co/XlzflQPUIr   \n",
       "\n",
       "                                                                                                                                                                                 clean_text  \\\n",
       "14594                                                                                                                               ima upset iphone 14 really look like 13 bc still got 12   \n",
       "2947   looking forward iphone 14 nothing wrong comparison specs leaked 99 accurate innovation never apples strong suit copy others ios ipad os getting major updates something look forward   \n",
       "51749                                                                                       never good enough wrong person self bbnaija nigerien iphone 14 deborah ippis tg omori asuu bb24   \n",
       "41559                                                                                                                       would still buy iphone 14 pro despite rumored price increase gt   \n",
       "26574                                                                                            apple tech mac iphone 14 spur upgrades iphone 13 despite price increase survey suggests gt   \n",
       "\n",
       "      compound sentiment  \n",
       "14594    0.046       neu  \n",
       "2947    0.0392       neu  \n",
       "51749   0.0382       neu  \n",
       "41559   0.0356       neu  \n",
       "26574   0.0356       neu  "
      ]
     },
     "execution_count": 60,
     "metadata": {},
     "output_type": "execute_result"
    }
   ],
   "source": [
    "neu.sort_values(by='compound', ascending=False)[:5]"
   ]
  },
  {
   "cell_type": "code",
   "execution_count": 55,
   "id": "b503c575",
   "metadata": {},
   "outputs": [],
   "source": [
    "# view negative tweets\n",
    "neg = df_tweet[df_tweet.sentiment=='neg']"
   ]
  },
  {
   "cell_type": "code",
   "execution_count": 61,
   "id": "d5eeaee6",
   "metadata": {},
   "outputs": [
    {
     "data": {
      "text/html": [
       "<div>\n",
       "<style scoped>\n",
       "    .dataframe tbody tr th:only-of-type {\n",
       "        vertical-align: middle;\n",
       "    }\n",
       "\n",
       "    .dataframe tbody tr th {\n",
       "        vertical-align: top;\n",
       "    }\n",
       "\n",
       "    .dataframe thead th {\n",
       "        text-align: right;\n",
       "    }\n",
       "</style>\n",
       "<table border=\"1\" class=\"dataframe\">\n",
       "  <thead>\n",
       "    <tr style=\"text-align: right;\">\n",
       "      <th></th>\n",
       "      <th>text</th>\n",
       "      <th>clean_text</th>\n",
       "      <th>compound</th>\n",
       "      <th>sentiment</th>\n",
       "    </tr>\n",
       "  </thead>\n",
       "  <tbody>\n",
       "    <tr>\n",
       "      <th>11519</th>\n",
       "      <td>i hate hate hate that i got the iphone 13 bc a bitch is about to drop MONEY on this orange iphone 14 holy shit shit shit</td>\n",
       "      <td>hate hate hate got iphone 13 bc bitch drop money orange iphone 14 holy shit shit shit</td>\n",
       "      <td>-0.9814</td>\n",
       "      <td>neg</td>\n",
       "    </tr>\n",
       "    <tr>\n",
       "      <th>53142</th>\n",
       "      <td>Breaking court sentences iniubong umoren killer to death by hangings ,uduak frank akpan has been sent to death by hangings for rape and murder..\\nThis breaks my heart üíîüíî tho\\n\\nEFCC mompha japa oshiomole iPhone 14 God abeg New born fela #AtikuOkowa2023 Abacha ASUU Cynthia okereke https://t.co/RAr5I51ONF</td>\n",
       "      <td>breaking court sentences iniubong umoren killer death hangings uduak frank akpan sent death hangings rape murder breaks heart tho efcc mompha japa oshiomole iphone 14 god abeg new born fela atikuokowa2023 abacha asuu cynthia okereke</td>\n",
       "      <td>-0.9517</td>\n",
       "      <td>neg</td>\n",
       "    </tr>\n",
       "    <tr>\n",
       "      <th>22110</th>\n",
       "      <td>Apple to Launch iPhone 14 on September 7 The invasion of Taiwan, millions of Uyghurs persecuted, imprisoned, killed, the cruel treatment of Chinese citizens by Xi   and his CCP!  White, black, Hispanic,Asian Americans are feeding this very dangerous beast! https://t.co/NDMCIpNNji</td>\n",
       "      <td>apple launch iphone 14 september 7 invasion taiwan millions uyghurs persecuted imprisoned killed cruel treatment chinese citizens xi ccp white black hispanic asian americans feeding dangerous beast</td>\n",
       "      <td>-0.9493</td>\n",
       "      <td>neg</td>\n",
       "    </tr>\n",
       "    <tr>\n",
       "      <th>56302</th>\n",
       "      <td>harryimagine harry styles jumps off stage middle of concert smirks gift get jealous stab brand new iphone gold spike oh no did not mean to you most beautiful girl in world smirk disappeared dead pass away wattpad dramatic kill 14 1 one direction 1d meme mom sell you to y/n murder https://t.co/Wx5SPJbsdZ</td>\n",
       "      <td>harryimagine harry styles jumps stage middle concert smirks gift get jealous stab brand new iphone gold spike oh mean beautiful girl world smirk disappeared dead pass away wattpad dramatic kill 14 1 one direction 1d meme mom sell n murder</td>\n",
       "      <td>-0.9485</td>\n",
       "      <td>neg</td>\n",
       "    </tr>\n",
       "    <tr>\n",
       "      <th>35745</th>\n",
       "      <td>JUST TELL ME WHEN THE FUCK YOU GUYS WOULD LAUCH A PINK PRO MAX?!!!!!!!!??????I‚ÄôVE BEEN WAITING FROM IPHONE11 TO IPHONE 14!!!!NOTHING COMES!!!!!U FUCKING IDIOT ONLY KNOWS TO LANUCH THAT PURPLE GREEN BLUE SHIT!!!LOOK LIKES SHIT!GARBAGE!!!FUCKING UGLY!!!@Apple https://t.co/jNiyED7rmC</td>\n",
       "      <td>tell fuck guys would lauch pink pro max waiting iphone11 iphone 14 nothing comes u fucking idiot knows lanuch purple green blue shit look likes shit garbage fucking ugly</td>\n",
       "      <td>-0.944</td>\n",
       "      <td>neg</td>\n",
       "    </tr>\n",
       "  </tbody>\n",
       "</table>\n",
       "</div>"
      ],
      "text/plain": [
       "                                                                                                                                                                                                                                                                                                                         text  \\\n",
       "11519                                                                                                                                                                                                i hate hate hate that i got the iphone 13 bc a bitch is about to drop MONEY on this orange iphone 14 holy shit shit shit   \n",
       "53142  Breaking court sentences iniubong umoren killer to death by hangings ,uduak frank akpan has been sent to death by hangings for rape and murder..\\nThis breaks my heart üíîüíî tho\\n\\nEFCC mompha japa oshiomole iPhone 14 God abeg New born fela #AtikuOkowa2023 Abacha ASUU Cynthia okereke https://t.co/RAr5I51ONF   \n",
       "22110                                Apple to Launch iPhone 14 on September 7 The invasion of Taiwan, millions of Uyghurs persecuted, imprisoned, killed, the cruel treatment of Chinese citizens by Xi   and his CCP!  White, black, Hispanic,Asian Americans are feeding this very dangerous beast! https://t.co/NDMCIpNNji   \n",
       "56302        harryimagine harry styles jumps off stage middle of concert smirks gift get jealous stab brand new iphone gold spike oh no did not mean to you most beautiful girl in world smirk disappeared dead pass away wattpad dramatic kill 14 1 one direction 1d meme mom sell you to y/n murder https://t.co/Wx5SPJbsdZ   \n",
       "35745                             JUST TELL ME WHEN THE FUCK YOU GUYS WOULD LAUCH A PINK PRO MAX?!!!!!!!!??????I‚ÄôVE BEEN WAITING FROM IPHONE11 TO IPHONE 14!!!!NOTHING COMES!!!!!U FUCKING IDIOT ONLY KNOWS TO LANUCH THAT PURPLE GREEN BLUE SHIT!!!LOOK LIKES SHIT!GARBAGE!!!FUCKING UGLY!!!@Apple https://t.co/jNiyED7rmC   \n",
       "\n",
       "                                                                                                                                                                                                                                           clean_text  \\\n",
       "11519                                                                                                                                                           hate hate hate got iphone 13 bc bitch drop money orange iphone 14 holy shit shit shit   \n",
       "53142        breaking court sentences iniubong umoren killer death hangings uduak frank akpan sent death hangings rape murder breaks heart tho efcc mompha japa oshiomole iphone 14 god abeg new born fela atikuokowa2023 abacha asuu cynthia okereke   \n",
       "22110                                           apple launch iphone 14 september 7 invasion taiwan millions uyghurs persecuted imprisoned killed cruel treatment chinese citizens xi ccp white black hispanic asian americans feeding dangerous beast   \n",
       "56302  harryimagine harry styles jumps stage middle concert smirks gift get jealous stab brand new iphone gold spike oh mean beautiful girl world smirk disappeared dead pass away wattpad dramatic kill 14 1 one direction 1d meme mom sell n murder   \n",
       "35745                                                                       tell fuck guys would lauch pink pro max waiting iphone11 iphone 14 nothing comes u fucking idiot knows lanuch purple green blue shit look likes shit garbage fucking ugly   \n",
       "\n",
       "      compound sentiment  \n",
       "11519  -0.9814       neg  \n",
       "53142  -0.9517       neg  \n",
       "22110  -0.9493       neg  \n",
       "56302  -0.9485       neg  \n",
       "35745   -0.944       neg  "
      ]
     },
     "execution_count": 61,
     "metadata": {},
     "output_type": "execute_result"
    }
   ],
   "source": [
    "neg.sort_values(by='compound', ascending=True)[:5]"
   ]
  },
  {
   "cell_type": "markdown",
   "id": "9ef7b47a",
   "metadata": {},
   "source": [
    "Finally, let's see the number of tweets for each sentiment in the dataset."
   ]
  },
  {
   "cell_type": "code",
   "execution_count": 57,
   "id": "70f79aa3",
   "metadata": {},
   "outputs": [
    {
     "data": {
      "image/png": "[encoded data removed]",
      "text/plain": [
       "<Figure size 1080x720 with 1 Axes>"
      ]
     },
     "metadata": {
      "needs_background": "light"
     },
     "output_type": "display_data"
    }
   ],
   "source": [
    "fig, ax = plt.subplots(figsize=(15, 10))\n",
    "sns.countplot(data=df_tweet, x='sentiment')\n",
    "ax.bar_label(ax.containers[0])\n",
    "plt.show()"
   ]
  },
  {
   "cell_type": "markdown",
   "id": "317d4caa",
   "metadata": {},
   "source": [
    "The graph above shows that the majority of the tweets in the dataset have neutral opinion about iPhone 14 (36.577 tweets), followed by positive sentiment (20.320 tweets) and negative sentiment (9.897 tweets)."
   ]
  }
 ],
 "metadata": {
  "kernelspec": {
   "display_name": "iphone14",
   "language": "python",
   "name": "iphone14"
  },
  "language_info": {
   "codemirror_mode": {
    "name": "ipython",
    "version": 3
   },
   "file_extension": ".py",
   "mimetype": "text/x-python",
   "name": "python",
   "nbconvert_exporter": "python",
   "pygments_lexer": "ipython3",
   "version": "3.9.7"
  }
 },
 "nbformat": 4,
 "nbformat_minor": 5
}
